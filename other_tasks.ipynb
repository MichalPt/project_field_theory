{
 "cells": [
  {
   "cell_type": "markdown",
   "id": "8a6aa896-4f15-4d44-a994-2f2f11f3602f",
   "metadata": {},
   "source": [
    "# Other tasks"
   ]
  },
  {
   "cell_type": "code",
   "execution_count": 1,
   "id": "d6e3d2bc-e589-44d7-b0d0-48c3d7cefee5",
   "metadata": {},
   "outputs": [],
   "source": [
    "from sympy import Symbol, factorial, diff, integrate, exp, sqrt, oo, solve\n",
    "import numpy as np\n",
    "\n",
    "from project1.iterations import *\n",
    "from project1.classes import State"
   ]
  },
  {
   "cell_type": "code",
   "execution_count": 2,
   "id": "679fb533-2634-45b0-a392-d88293d18d23",
   "metadata": {},
   "outputs": [],
   "source": [
    "a = Symbol('a', positive=True)\n",
    "b = Symbol('b', positive=True)\n",
    "r = Symbol('r', positive=True)\n",
    "r1 = Symbol('r1', positive=True)\n",
    "r2 = Symbol('r2', positive=True)\n",
    "Z = Symbol('Z', positive=True)\n",
    "aaa = Symbol('aaa', positive=True)\n",
    "bbb = Symbol('bbb', positive=True)"
   ]
  },
  {
   "cell_type": "code",
   "execution_count": 3,
   "id": "aecd3866-2ef9-4f84-93d6-0c23a010b32e",
   "metadata": {},
   "outputs": [],
   "source": [
    "f1s = State(1,0)\n",
    "f2p = State(2,1)\n",
    "f3d = State(3,2)\n",
    "f2s = State(2,0)"
   ]
  },
  {
   "cell_type": "code",
   "execution_count": 4,
   "id": "0a1ecf92-743a-4d73-a098-5baa1fef5169",
   "metadata": {},
   "outputs": [],
   "source": [
    "def optimize_ab(N, E0, a, b, aa=1, bb=1/2):\n",
    "    for i in range(N):\n",
    "        dEa = diff(E0.subs(Z,2), a)\n",
    "        dEb = diff(E0.subs(Z,2), b)\n",
    "\n",
    "        dEaa = diff(dEa, a).subs(a,aa).subs(b,bb)\n",
    "        dEab = diff(dEa, b).subs(a,aa).subs(b,bb)\n",
    "        dEba = diff(dEb, a).subs(a,aa).subs(b,bb)\n",
    "        dEbb = diff(dEb, b).subs(a,aa).subs(b,bb)\n",
    "\n",
    "        ans = solve((dEa.subs(a,aa).subs(b,bb) + (aaa - aa)*dEaa + (bbb - bb)*dEab, dEb.subs(a,aa).subs(b,bb) + (aaa - aa)*dEba + (bbb - bb) * dEbb), aaa, bbb)\n",
    "        aa = ans[aaa]\n",
    "        bb = ans[bbb]\n",
    "        EX = (E0.subs(a,aa).subs(b,bb) * Z**2).subs(Z, 2)\n",
    "        print(\"   Iter. step {}: a = {:.6f} , b = {:.6f} , E = {:.9f}\".format(i, float(aa), float(bb), float(EX)))\n",
    "\n",
    "    return float(EX)"
   ]
  },
  {
   "cell_type": "code",
   "execution_count": 5,
   "id": "d4f46790-e920-437f-a07b-791b53efb6d5",
   "metadata": {},
   "outputs": [],
   "source": [
    "def h1(bra, ket, variable=r, Z=2, l=0):\n",
    "    prefactor = 1\n",
    "    \n",
    "    h_diff = -1/2 * diff(ket, variable, 2) - 1/variable * diff(ket, variable, 1) \n",
    "    h = l*(l+1)/(2*variable**2) - 1/variable\n",
    "    \n",
    "    integral = integrate(variable**2 * bra * (h_diff + h * ket), (variable, 0, oo))\n",
    "    \n",
    "    return integral.doit() * prefactor"
   ]
  },
  {
   "cell_type": "code",
   "execution_count": 6,
   "id": "aa894229-f969-4760-b78b-f3339907584d",
   "metadata": {},
   "outputs": [],
   "source": [
    "def h2(bra1, bra2, ket1, ket2, l, var1 = r1, var2=r2, Z=1):    \n",
    "    prefactor = 1/(2*l + 1)\n",
    "    \n",
    "    # branch r1 > r2\n",
    "    integral1 = integrate(var1**2 * var2**2 * (bra1 * bra2) * var2**l * var1**(-l-1) * (ket1 * ket2), (var2, 0, var1), (var1, 0, oo))\n",
    "    \n",
    "    # branch r1 < r2\n",
    "    integral2 = integrate(var1**2 * var2**2 * (bra1 * bra2) * var1**l * var2**(-l-1) * (ket1 * ket2), (var2, var1, oo), (var1, 0, oo))\n",
    "    \n",
    "    return prefactor * (integral1 + integral2)"
   ]
  },
  {
   "cell_type": "markdown",
   "id": "9b3f8231-a457-4783-b480-6b99650e12a6",
   "metadata": {},
   "source": [
    "## state 1S"
   ]
  },
  {
   "cell_type": "code",
   "execution_count": 7,
   "id": "4c0e44a2-a8f1-4f39-af11-63cff5cc2255",
   "metadata": {},
   "outputs": [
    {
     "name": "stdout",
     "output_type": "stream",
     "text": [
      "Energy of He state 1S is: -2.847656\n",
      "Value from the book:  E = -2.8476\n"
     ]
    }
   ],
   "source": [
    "e1 = h1(f1s(r, a), f1s(r, a), variable=r, Z=2, l=0)\n",
    "\n",
    "## via relation 5.36\n",
    "# E1sZ2 = 2 * e0 + 1/Z * (4*a**3)**2 * integral_I(2*a, 2*a, 2,2,0)\n",
    "\n",
    "## via direct integration\n",
    "E1sZ2 = 2 * e1 + 1/Z * h2(f1s(r1,a),f1s(r2,a),f1s(r1,a),f1s(r2,a), 0, var1=r1, var2=r2).simplify()\n",
    "\n",
    "alpha_opt = solve(diff(E1sZ2, a).subs(Z,2),a)[0]\n",
    "E1S = (E1sZ2.subs(a,alpha_opt) * Z**2).subs(Z,2)\n",
    "\n",
    "print(\"Energy of He state 1S is: {:.6f}\".format(float(E1S)))\n",
    "print(\"Value from the book:  E = {}\".format(-2.8476))"
   ]
  },
  {
   "cell_type": "markdown",
   "id": "fec8e2b4-e790-4eb7-bbf4-a4cfdcdb5d30",
   "metadata": {},
   "source": [
    "## state 2P"
   ]
  },
  {
   "cell_type": "code",
   "execution_count": 8,
   "id": "745e2f77-bc80-4330-b6e5-36571409a156",
   "metadata": {},
   "outputs": [
    {
     "name": "stdout",
     "output_type": "stream",
     "text": [
      "   Iter. step 0: a = 1.001508 , b = 0.482368 , E = -2.122390091\n",
      "   Iter. step 1: a = 1.001512 , b = 0.482363 , E = -2.122390091\n",
      "   Iter. step 2: a = 1.001512 , b = 0.482363 , E = -2.122390091\n",
      "Energy of He singlet state 2P is: -2.122390\n",
      "\n",
      "   Iter. step 0: a = 0.995702 , b = 0.544107 , E = -2.130691227\n",
      "   Iter. step 1: a = 0.995593 , b = 0.544575 , E = -2.130691334\n",
      "   Iter. step 2: a = 0.995593 , b = 0.544575 , E = -2.130691334\n",
      "Energy of He triplet state 2P is: -2.130691\n",
      "\n",
      "\n",
      "Values from the book are:\n",
      "   singlet ... a = 1.0015 , b = 0.4823 , E = -2.12239\n",
      "   triplet ... a = 0.9955 , b = 0.5445 , E = -2.13069\n"
     ]
    }
   ],
   "source": [
    "l1 = 0\n",
    "l2 = 1\n",
    "\n",
    "e0 = h1(f1s(r, a), f1s(r, a), variable=r, Z=2, l=l1)\n",
    "e1 = h1(f2p(r, b), f2p(r, b), variable=r, Z=2, l=l2)\n",
    "\n",
    "# hc = h2(f1s(r1,a),f2p(r2,b),f1s(r1,a),f2p(r2,b), l1, var1=r1, var2=r2, Z=2).simplify()\n",
    "# he = 1/3 * h2(f1s(r1,a),f2p(r2,b),f1s(r2,a),f2p(r1,b), l2, var1=r1, var2=r2, Z=2).simplify()\n",
    "\n",
    "hc = a**3 * b**5 / 6 * integral_I(2*a, b, 2, 4, l1)\n",
    "he = a**3 * b**5 / 6 * integral_I(a+b/2, a+b/2, 3, 3, l2) / (2*l2 + 1)\n",
    "\n",
    "for mult, sign in zip(['singlet','triplet'], [1, -1]):\n",
    "    E2pZ2 = e0 + e1 + 1/Z * (hc + sign * he)\n",
    "    opt = optimize_ab(3, E2pZ2, a,b)\n",
    "    print(\"Energy of He {} state 2P is: {:.6f}\\n\".format(mult, opt))\n",
    "    \n",
    "print(\"\\nValues from the book are:\")\n",
    "print(\"   singlet ... a = {} , b = {} , E = {}\".format(1.0015,0.4823,-2.12239))\n",
    "print(\"   triplet ... a = {} , b = {} , E = {}\".format(0.9955,0.5445,-2.13069))"
   ]
  },
  {
   "cell_type": "markdown",
   "id": "59625b51-de07-4157-b843-286ed89fd768",
   "metadata": {},
   "source": [
    "## state 3D"
   ]
  },
  {
   "cell_type": "code",
   "execution_count": 9,
   "id": "e6b31fe9-a21c-47fa-be7a-79fe43983cec",
   "metadata": {},
   "outputs": [
    {
     "name": "stdout",
     "output_type": "stream",
     "text": [
      "   Iter. step 0: a = 1.000011 , b = 0.499762 , E = -2.055546095\n",
      "   Iter. step 1: a = 1.000011 , b = 0.499762 , E = -2.055546095\n",
      "   Iter. step 2: a = 1.000011 , b = 0.499762 , E = -2.055546095\n",
      "Energy of He singlet state 3D is: -2.0555461\n",
      "   Iter. step 0: a = 0.999981 , b = 0.500424 , E = -2.055571815\n",
      "   Iter. step 1: a = 0.999981 , b = 0.500424 , E = -2.055571815\n",
      "   Iter. step 2: a = 0.999981 , b = 0.500424 , E = -2.055571815\n",
      "Energy of He triplet state 3D is: -2.0555718\n",
      "\n",
      "Values from the book are:\n",
      "   singlet ... a = 1.0 , b = 0.4998 , E = -2.05555\n",
      "   triplet ... a = 1.0 , b = 0.5004 , E = -2.05557\n"
     ]
    }
   ],
   "source": [
    "l1 = 0\n",
    "l2 = 2\n",
    "\n",
    "e0 = h1(f1s(r, a), f1s(r, a), variable=r, Z=2, l=l1)\n",
    "e1 = h1(f3d(r, b), f3d(r, b), variable=r, Z=2, l=l2)\n",
    "\n",
    "# hc = h2(f1s(r1,a),f3d(r2,b),f1s(r1,a),f3d(r2,b), l1, var1=r1, var2=r2, Z=2).simplify()\n",
    "# he = 1/(2*l2+1) * h2(f1s(r1,a),f3d(r2,b),f1s(r2,a),f3d(r1,b), l2, var1=r1, var2=r2, Z=2).simplify()\n",
    "\n",
    "hc = 4 * a**3 * (2*b/3)**7 / factorial(6) * integral_I(2*a, 2*b/3, 2, 6, l1)\n",
    "he = 4 * a**3 * (2*b/3)**7 / factorial(6) * integral_I(a+b/3, a+b/3, 4, 4, l2) / (2*l2 + 1)\n",
    "\n",
    "for mult, sign in zip(['singlet','triplet'], [1, -1]):\n",
    "    E3dZ2 = e0 + e1 + 1/Z * (hc + sign * he)\n",
    "    print(\"Energy of He {} state 3D is: {:.7f}\".format(mult,optimize_ab(3, E3dZ2, a,b)))\n",
    "    \n",
    "print(\"\\nValues from the book are:\")\n",
    "print(\"   singlet ... a = {} , b = {} , E = {}\".format(1.0,0.4998,-2.05555))\n",
    "print(\"   triplet ... a = {} , b = {} , E = {}\".format(1.0,0.5004,-2.05557))"
   ]
  },
  {
   "cell_type": "markdown",
   "id": "f1b8780b-3609-4b3e-a2d9-86d82300f0f5",
   "metadata": {},
   "source": [
    "## triplet state 2S"
   ]
  },
  {
   "cell_type": "code",
   "execution_count": 10,
   "id": "342c718d-4aff-4130-b764-2ff3577cfee0",
   "metadata": {},
   "outputs": [
    {
     "name": "stdout",
     "output_type": "stream",
     "text": [
      "   Iter. step 0: a = 1.005504 , b = 0.607140 , E = -2.208851109\n",
      "   Iter. step 1: a = 1.005664 , b = 0.610139 , E = -2.208857079\n",
      "   Iter. step 2: a = 1.005664 , b = 0.610144 , E = -2.208857079\n",
      "Energy of He triplet state 3D is: -2.208857\n",
      "\n",
      "For a = 1 , b = 1 , E = -2.124143\n",
      "For a = 1 , b = 0.5 , E = -2.200587\n",
      "\n",
      "Values from the book are:\n",
      "   triplet ... a = 1.0 , b = 1.0 , E = -2.124\n",
      "   triplet ... a = 1.0 , b = 0.5 , E = -2.157\n",
      "   triplet ... a = 1.0042 , b = 0.6945 , E = -2.17195\n"
     ]
    }
   ],
   "source": [
    "l1 = 0\n",
    "l2 = 0\n",
    "\n",
    "e0 = h1(f1s(r, a), f1s(r, a), variable=r, Z=2, l=l1)\n",
    "e1 = h1(f2s(r, b), f2s(r, b), variable=r, Z=2, l=l2)\n",
    "\n",
    "# hc = h2(f1s(r1,a),f2s(r2,b),f1s(r1,a),f2s(r2,b), l1, var1=r1, var2=r2, Z=2)\n",
    "# he = 1/(2*l2+1) * h2(f1s(r1,a),f2s(r2,b),f1s(r2,a),f2s(r1,b), l2, var1=r1, var2=r2, Z=2)\n",
    "\n",
    "pre1s = 4 * a**3 \n",
    "pre2s_1 = b**3 / 2\n",
    "pre2s_2 = (- b**4 / 4)\n",
    "pre2s_3 = (b**5 / 8 )\n",
    "\n",
    "hc1 = pre1s * pre2s_1 * integral_I(2*a, b, 2, 2, l1)\n",
    "hc2 = pre1s * pre2s_2 * integral_I(2*a, b, 2, 3, l1)\n",
    "hc3 = pre1s * pre2s_3 * integral_I(2*a, b, 2, 4, l1)\n",
    "hc = hc1 + 2*hc2 + hc3\n",
    "\n",
    "he1 = pre1s * pre2s_1 * integral_I(a+b/2, a+b/2, 2, 2, l2) / (2*l2 + 1)\n",
    "he2 = pre1s * pre2s_2 * integral_I(a+b/2, a+b/2, 2, 3, l2) / (2*l2 + 1)\n",
    "he3 = pre1s * pre2s_3 * integral_I(a+b/2, a+b/2, 3, 3, l2) / (2*l2 + 1)\n",
    "he = he1 + 2*he2 + he3\n",
    "\n",
    "for mult, sign in zip(['triplet',], [-1,]):\n",
    "    E2sZ2 = e0 + e1 + 1/Z * (hc + sign * he)\n",
    "    print(\"Energy of He {} state 3D is: {:.6f}\".format(mult, optimize_ab(3, E2sZ2, a,b)))\n",
    "\n",
    "print(\"\\nFor a = {} , b = {} , E = {:.6f}\".format(1,1,(E2sZ2 * Z**2).subs(a,1).subs(b,1).subs(Z,2)))\n",
    "print(\"For a = {} , b = {} , E = {:.6f}\".format(1,0.5,(E2sZ2 * Z**2).subs(a,1).subs(b,0.5).subs(Z,2)))\n",
    "\n",
    "print(\"\\nValues from the book are:\")\n",
    "print(\"   triplet ... a = {} , b = {} , E = {}\".format(1.0, 1.0, -2.124))\n",
    "print(\"   triplet ... a = {} , b = {} , E = {}\".format(1.0, 0.5, -2.157))\n",
    "print(\"   triplet ... a = {} , b = {} , E = {}\".format(1.0042, 0.6945, -2.17195))"
   ]
  },
  {
   "cell_type": "code",
   "execution_count": null,
   "id": "33dc6ac9-02be-4cfe-b930-19b78bf1d087",
   "metadata": {},
   "outputs": [],
   "source": []
  }
 ],
 "metadata": {
  "kernelspec": {
   "display_name": "Python 3 (ipykernel)",
   "language": "python",
   "name": "python3"
  },
  "language_info": {
   "codemirror_mode": {
    "name": "ipython",
    "version": 3
   },
   "file_extension": ".py",
   "mimetype": "text/x-python",
   "name": "python",
   "nbconvert_exporter": "python",
   "pygments_lexer": "ipython3",
   "version": "3.8.13"
  }
 },
 "nbformat": 4,
 "nbformat_minor": 5
}
