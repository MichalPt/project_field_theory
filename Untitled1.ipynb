{
 "cells": [
  {
   "cell_type": "code",
   "execution_count": 1,
   "id": "1921c013-44c7-41e7-ae4b-bbe84f05b3c7",
   "metadata": {},
   "outputs": [],
   "source": [
    "import sympy as sp\n",
    "from sympy import Symbol, factorial, diff, integrate, exp, sqrt, oo, solve\n",
    "import numpy as np\n",
    "from functions import *\n",
    "from scipy.linalg import eigh"
   ]
  },
  {
   "cell_type": "code",
   "execution_count": 2,
   "id": "0dbf823b-bf64-43df-98c9-678fc9238fc5",
   "metadata": {},
   "outputs": [],
   "source": [
    "matS = np.array([[ 3.7714  , -2.666783,  0.      ,  1.8857  ,  0.      ],\n",
    "                        [-2.666783,  4.7142  , -2.3095, -5.333565,  0.      ],\n",
    "                        [ 0.      , -2.3095, 5.6570  ,  3.266128,  0.      ],\n",
    "                        [ 1.8857  , -5.333565,  3.266128, 15.0856  ,  0.      ],\n",
    "                        [ 0.      ,  0.      ,  0.      ,  0.      , 15.0856  ]])"
   ]
  },
  {
   "cell_type": "code",
   "execution_count": 3,
   "id": "5eddb48e-369b-4b8d-aaf0-cededfff947e",
   "metadata": {},
   "outputs": [],
   "source": [
    "matH0 = np.array([[-15.072,    10.986 ,      0.  ,     -8.0000 ,     0.  ],\n",
    "                             [10.986 ,    -11.304 ,   9.5138 ,    10.986 ,      0.  ],\n",
    "                             [  0.  ,     9.5138 ,    -7.0720 ,   -13.856 ,     0.  ],\n",
    "                             [-8.0000 ,   10.986 ,    -13.856 ,   1.8560 ,      0.  ],\n",
    "                             [  0.  ,       0. ,        0.   ,      0.  ,     1.8560]])"
   ]
  },
  {
   "cell_type": "code",
   "execution_count": 5,
   "id": "74faf718-30a1-46eb-8b35-6d94535d3056",
   "metadata": {},
   "outputs": [],
   "source": [
    "matW = np.array([[ 4.8550  ,   -1.7165 ,    -0.84091,    1.4565 ,    -1.9621],\n",
    "                             [-1.7165  ,    3.6413 ,    -0.59461,    -3.2614,    2.0811 ],\n",
    "                             [-0.84091 ,   -0.59461,     3.2771 ,    1.4716 ,    0.12137],\n",
    "                             [ 1.4565  ,   -3.2614 ,     1.4716 ,    9.3459 ,    -3.1534],\n",
    "                             [-1.9621  ,    2.0811 ,    0.12137 ,    -3.1534,    13.473 ]])"
   ]
  },
  {
   "cell_type": "code",
   "execution_count": 6,
   "id": "75fccf2d-38e1-4f17-95b6-d82018d16a83",
   "metadata": {},
   "outputs": [
    {
     "data": {
      "text/plain": [
       "array([-2.89546059, -1.43279487,  1.01845877,  2.43110403,  4.52492377])"
      ]
     },
     "execution_count": 6,
     "metadata": {},
     "output_type": "execute_result"
    }
   ],
   "source": [
    "eigh(matH0+matW, matS, eigvals_only=True)"
   ]
  },
  {
   "cell_type": "code",
   "execution_count": null,
   "id": "ec7806a3-d915-433d-805e-da08af906e06",
   "metadata": {},
   "outputs": [],
   "source": []
  },
  {
   "cell_type": "code",
   "execution_count": null,
   "id": "a2745d22-d374-4054-9bed-716457a46c90",
   "metadata": {},
   "outputs": [],
   "source": []
  },
  {
   "cell_type": "code",
   "execution_count": null,
   "id": "3c125fca-2a8e-40ed-865f-64e50da5af76",
   "metadata": {},
   "outputs": [],
   "source": []
  },
  {
   "cell_type": "code",
   "execution_count": 416,
   "id": "02d4ec45-426c-45d2-b8de-441d9e43b2ed",
   "metadata": {},
   "outputs": [],
   "source": [
    "from sympy import Symbol, diff, integrate, exp, sqrt, factorial, oo\n",
    "from project1.states import *\n",
    "\n",
    "\n",
    "def h1_1(bra, ket, var, Z=2, eta=1):\n",
    "    prefactor = 1\n",
    "    \n",
    "    h_diff = -var /2 * diff(ket(var), var, 2) - diff(ket(var), var, 1)\n",
    "    h_br_2 = ket.l * (ket.l + 1) / (2*var)\n",
    "    h_br_3 = 0 #var / 2\n",
    "    h_br_4 = - eta\n",
    "    h_br = h_br_2 + h_br_3 + h_br_4 \n",
    "    \n",
    "    integral = integrate(var * bra(var) * (h_diff + h_br * ket(var)), (var, 0, oo)) \n",
    "    return (integral.doit()) * prefactor\n",
    "\n",
    "\n",
    "def h1(bra1, bra2, ket1, ket2, var1, var2, Z=2, eta=1):\n",
    "    prefactor = 1\n",
    "    \n",
    "    part1 = h1_1(bra1, ket1, var1, eta=eta) * integrate(var2**2 * bra2(var2) * ket2(var2), (var2, 0, oo))\n",
    "    part2 = integrate(var1**2 * bra1(var1) * ket1(var1), (var1, 0, oo)) * h1_1(bra2, ket2, var2, eta=eta)\n",
    "    \n",
    "    return prefactor * (part1 + part2)"
   ]
  },
  {
   "cell_type": "code",
   "execution_count": 480,
   "id": "52030fc5-1c92-4b65-a885-537c805550d4",
   "metadata": {},
   "outputs": [],
   "source": [
    "def get_h0(bra1,bra2,ket1,ket2,var1,var2,eta=1.185,sign=1):\n",
    "    out = h1(bra1, bra2, ket1, ket2, var1=var1,var2=var2,eta=eta) + h1(bra2, bra1, ket2, ket1, var1=var1,var2=var2,eta=eta) + sign * (h1(bra1, bra2, ket2, ket1, var1=var1,var2=var2,eta=eta) + h1(bra2, bra1, ket1, ket2, var1=var1,var2=var2,eta=eta))\n",
    "    \n",
    "    return float(out/2)"
   ]
  },
  {
   "cell_type": "code",
   "execution_count": 477,
   "id": "a0080fa2-2092-4f3f-afa0-180099de4d10",
   "metadata": {},
   "outputs": [
    {
     "ename": "ZeroDivisionError",
     "evalue": "float division by zero",
     "output_type": "error",
     "traceback": [
      "\u001b[1;31m---------------------------------------------------------------------------\u001b[0m",
      "\u001b[1;31mZeroDivisionError\u001b[0m                         Traceback (most recent call last)",
      "Cell \u001b[1;32mIn [477], line 2\u001b[0m\n\u001b[0;32m      1\u001b[0m aa \u001b[38;5;241m=\u001b[39m get_h0(f1s,f1s,f1s,f1s, var1\u001b[38;5;241m=\u001b[39mr1,var2\u001b[38;5;241m=\u001b[39mr2)\n\u001b[1;32m----> 2\u001b[0m prf \u001b[38;5;241m=\u001b[39m \u001b[38;5;241;43m-\u001b[39;49m\u001b[38;5;241;43m15.072\u001b[39;49m\u001b[43m \u001b[49m\u001b[38;5;241;43m/\u001b[39;49m\u001b[43m \u001b[49m\u001b[43maa\u001b[49m\n\u001b[0;32m      3\u001b[0m \u001b[38;5;241m-\u001b[39m\u001b[38;5;241m15.072\u001b[39m\n",
      "\u001b[1;31mZeroDivisionError\u001b[0m: float division by zero"
     ]
    }
   ],
   "source": [
    "aa = get_h0(f1s,f1s,f1s,f1s, var1=r1,var2=r2)\n",
    "prf = -15.072 / aa\n",
    "-15.072"
   ]
  },
  {
   "cell_type": "code",
   "execution_count": 468,
   "id": "255621fc-6807-4a8e-8f99-796a6d6a6fca",
   "metadata": {},
   "outputs": [
    {
     "data": {
      "text/plain": [
       "-11.303999999999997"
      ]
     },
     "execution_count": 468,
     "metadata": {},
     "output_type": "execute_result"
    }
   ],
   "source": [
    "get_h0(f1s,f2s,f1s,f2s, var1=r1,var2=r2) *prf "
   ]
  },
  {
   "cell_type": "code",
   "execution_count": 469,
   "id": "88af166a-3610-458f-808c-2763a8ab4f0c",
   "metadata": {},
   "outputs": [
    {
     "data": {
      "text/plain": [
       "9.218360135884465"
      ]
     },
     "execution_count": 469,
     "metadata": {},
     "output_type": "execute_result"
    }
   ],
   "source": [
    "get_h0(f1s,f1s,f1s,f2s, var1=r1,var2=r2) *prf"
   ]
  },
  {
   "cell_type": "code",
   "execution_count": 470,
   "id": "08e0e33f-f5f3-4722-a958-150972e0acb2",
   "metadata": {},
   "outputs": [
    {
     "data": {
      "text/plain": [
       "-9.571270072992634"
      ]
     },
     "execution_count": 470,
     "metadata": {},
     "output_type": "execute_result"
    }
   ],
   "source": [
    "get_h0(f1s,f3s,f1s,f3s, var1=r1,var2=r2) * prf"
   ]
  },
  {
   "cell_type": "code",
   "execution_count": 471,
   "id": "47aed401-ff8b-44bb-b688-1411cf0d0172",
   "metadata": {},
   "outputs": [
    {
     "data": {
      "text/plain": [
       "-5.500729927007298"
      ]
     },
     "execution_count": 471,
     "metadata": {},
     "output_type": "execute_result"
    }
   ],
   "source": [
    "get_h0(f1s,f1s,f2s,f2s, var1=r1,var2=r2) *prf"
   ]
  },
  {
   "cell_type": "code",
   "execution_count": 472,
   "id": "358b2ff8-b599-430e-a13e-d959ede032df",
   "metadata": {},
   "outputs": [
    {
     "data": {
      "text/plain": [
       "-8.141080291970784"
      ]
     },
     "execution_count": 472,
     "metadata": {},
     "output_type": "execute_result"
    }
   ],
   "source": [
    "get_h0(f2s,f2s,f2s,f2s, var1=r1,var2=r2) * prf"
   ]
  },
  {
   "cell_type": "code",
   "execution_count": 473,
   "id": "05dc412f-fd9d-44b6-a8f5-98002b2af8c0",
   "metadata": {},
   "outputs": [
    {
     "data": {
      "text/plain": [
       "-8.141080291970809"
      ]
     },
     "execution_count": 473,
     "metadata": {},
     "output_type": "execute_result"
    }
   ],
   "source": [
    "get_h0(f2p,f2p,f2p,f2p, var1=r1,var2=r2) * prf"
   ]
  },
  {
   "cell_type": "code",
   "execution_count": 487,
   "id": "e0553c53-961e-43a0-94f1-b8d71794da9d",
   "metadata": {},
   "outputs": [],
   "source": [
    "def build_h0():\n",
    "    H0 = np.zeros((5,5))\n",
    "    \n",
    "    funcs = [[f1s,f1s],[f1s,f2s],[f1s,f3s],[f2s,f2s],[f2p,f2p]]\n",
    "    \n",
    "    for i in range(5):\n",
    "        for j in range(5):\n",
    "            if (i == 4 and j !=4) or (j==4 and i !=4):\n",
    "                continue\n",
    "            H0[i,j] = get_h0(*funcs[i], *funcs[j], var1=r1, var2=r2, eta=0.971)\n",
    "         \n",
    "    norm = H0[0,0]\n",
    "    pref = -15.072 / norm\n",
    "    return H0 #* pref\n",
    "    \n",
    "np.set_printoptions(linewidth=140, precision=5,suppress=True)"
   ]
  },
  {
   "cell_type": "code",
   "execution_count": 488,
   "id": "2ac2df5c-7c07-4140-921f-e355e45a8af8",
   "metadata": {},
   "outputs": [
    {
     "data": {
      "text/plain": [
       "array([[-15.072  ,  10.98561,   0.     ,  -8.     ,   0.     ],\n",
       "       [ 10.98561, -11.304  ,   9.51382,  10.98561,   0.     ],\n",
       "       [  0.     ,   9.51382,  -7.072  , -13.85641,   0.     ],\n",
       "       [ -8.     ,  10.98561, -13.85641,   1.856  ,   0.     ],\n",
       "       [  0.     ,   0.     ,   0.     ,   0.     ,   1.856  ]])"
      ]
     },
     "execution_count": 488,
     "metadata": {},
     "output_type": "execute_result"
    }
   ],
   "source": [
    "h0 = build_h0()\n",
    "h0 *8"
   ]
  },
  {
   "cell_type": "code",
   "execution_count": 489,
   "id": "06618778-148b-4496-95b8-57fad04fe2b4",
   "metadata": {},
   "outputs": [
    {
     "data": {
      "text/plain": [
       "array([[-1.884  ,  1.3732 ,  0.     , -1.     ,  0.     ],\n",
       "       [ 1.3732 , -1.413  ,  1.18923,  1.3732 ,  0.     ],\n",
       "       [ 0.     ,  1.18923, -0.884  , -1.73205,  0.     ],\n",
       "       [-1.     ,  1.3732 , -1.73205,  0.232  ,  0.     ],\n",
       "       [ 0.     ,  0.     ,  0.     ,  0.     ,  0.232  ]])"
      ]
     },
     "execution_count": 489,
     "metadata": {},
     "output_type": "execute_result"
    }
   ],
   "source": [
    "h0"
   ]
  },
  {
   "cell_type": "code",
   "execution_count": null,
   "id": "a4b1320b-25de-4a86-9807-b2b77749977f",
   "metadata": {},
   "outputs": [],
   "source": []
  },
  {
   "cell_type": "code",
   "execution_count": 499,
   "id": "3a0d6b3c-8be9-47fb-8fb2-ecf9eb5c5a31",
   "metadata": {},
   "outputs": [],
   "source": [
    "def overlap(n11,n12,l1,n21,n22,l2,Z=2):\n",
    "    if l1 != l2:\n",
    "        return 0\n",
    "    else:\n",
    "        p1 = n21 if n11 == n21 else 0\n",
    "        p2 = -sqrt((n21 - l1)*(n21 + l1 + 1))/2 if n11 == n21 +1 else 0 \n",
    "        p3 = -sqrt((n21 + l1)*(n21 - l1 - 1))/2 if n11 == n21 -1 else 0 \n",
    "        \n",
    "        q1 = n22 if n12 == n22 else 0\n",
    "        q2 = -sqrt((n22 - l2)*(n22 + l2 + 1))/2 if n12 == n22 +1 else 0 \n",
    "        q3 = -sqrt((n22 + l2)*(n22 - l2 - 1))/2 if n12 == n22 -1 else 0 \n",
    "        \n",
    "        p = (p1 + p2 + p3)\n",
    "        q = (q1 + q2 + q3)\n",
    "        return p*q"
   ]
  },
  {
   "cell_type": "code",
   "execution_count": 515,
   "id": "604fb09b-c8de-48f4-a93e-9ff281ef200d",
   "metadata": {},
   "outputs": [
    {
     "name": "stdout",
     "output_type": "stream",
     "text": [
      "no one particle contribution\n",
      "no one particle contribution\n",
      "no one particle contribution\n",
      "no one particle contribution\n",
      "S: 5/2\n"
     ]
    },
    {
     "data": {
      "text/plain": [
       "-1.4130000000000003"
      ]
     },
     "execution_count": 515,
     "metadata": {},
     "output_type": "execute_result"
    }
   ],
   "source": [
    "NC1 = [1,2,0]\n",
    "NC2 = [1,2,0]\n",
    "revNC1 = [NC1[i] for i in [1,0,2]]\n",
    "revNC2 = [NC2[i] for i in [1,0,2]]\n",
    "one = one_particle_integral\n",
    "eta = 0.971\n",
    "sign=1\n",
    "\n",
    "E1 = one(*NC1, *NC2, eta=eta, particle=1) + one(*NC1, *NC2, eta=eta, particle=2) + one(*revNC1, *revNC2, eta=eta, particle=1) + one(*revNC1, *revNC2, eta=eta, particle=2) + sign * (one(*NC1, *revNC2, eta=eta, particle=1) + one(*NC1, *revNC2, eta=eta, particle=2) + one(*revNC1, *NC2, eta=eta, particle=1) + one(*revNC1, *NC2, eta=eta, particle=2))\n",
    "E11 = E1/2 - (overlap(*NC1, *NC2) + overlap(*NC1, *revNC2))\n",
    "print(\"S: {}\".format((overlap(*NC1, *NC2) + overlap(*NC1, *revNC2))))\n",
    "float(E11)"
   ]
  },
  {
   "cell_type": "code",
   "execution_count": 506,
   "id": "87e94bc1-f277-451d-8f84-da9672d54912",
   "metadata": {},
   "outputs": [
    {
     "data": {
      "text/plain": [
       "2"
      ]
     },
     "execution_count": 506,
     "metadata": {},
     "output_type": "execute_result"
    }
   ],
   "source": [
    "overlap(1,1,0,1,1,0) + overlap(1,1,0,1,1,0)"
   ]
  },
  {
   "cell_type": "code",
   "execution_count": null,
   "id": "207d235b-437a-42de-aa5d-4d76f08bc745",
   "metadata": {},
   "outputs": [],
   "source": []
  },
  {
   "cell_type": "code",
   "execution_count": 447,
   "id": "434d588e-92a5-4bf2-9a6a-04d7b02c558c",
   "metadata": {},
   "outputs": [],
   "source": [
    "def build_S():\n",
    "    S = np.zeros((5,5))\n",
    "    \n",
    "    funcs = [[f1s,f1s],[f1s,f2s],[f1s,f3s],[f2s,f2s],[f2p,f2p]]\n",
    "    \n",
    "    for i in range(5):\n",
    "        for j in range(5):\n",
    "            if (i == 4 and j !=4) or (j==4 and i !=4):\n",
    "                continue\n",
    "            ket = funcs[i]\n",
    "            bra = funcs[j]\n",
    "            I1 = integrate(r**2 * ket[0](r) * bra[0](r), (r, 0, oo)) * integrate(r**2 * ket[1](r) * bra[1](r), (r, 0, oo))\n",
    "            I2 = integrate(r**2 * ket[0](r) * bra[1](r), (r, 0, oo)) * integrate(r**2 * ket[1](r) * bra[0](r), (r, 0, oo))\n",
    "            S[i,j] = (I1 + I2)/2\n",
    "         \n",
    "    return S #* pref\n",
    "    \n",
    "np.set_printoptions(linewidth=140)"
   ]
  },
  {
   "cell_type": "code",
   "execution_count": 448,
   "id": "320a55e6-fe7d-4973-864f-b647e4b8e26c",
   "metadata": {},
   "outputs": [
    {
     "data": {
      "text/plain": [
       "array([[ 1.        , -0.70710678,  0.        ,  0.5       ,  0.        ],\n",
       "       [-0.70710678,  1.25      , -0.61237244, -1.41421356,  0.        ],\n",
       "       [ 0.        , -0.61237244,  1.5       ,  0.8660254 ,  0.        ],\n",
       "       [ 0.5       , -1.41421356,  0.8660254 ,  4.        ,  0.        ],\n",
       "       [ 0.        ,  0.        ,  0.        ,  0.        ,  4.        ]])"
      ]
     },
     "execution_count": 448,
     "metadata": {},
     "output_type": "execute_result"
    }
   ],
   "source": [
    "build_S()"
   ]
  },
  {
   "cell_type": "code",
   "execution_count": 446,
   "id": "0cfb8187-57c4-437c-9dcc-59ba065806f2",
   "metadata": {},
   "outputs": [
    {
     "data": {
      "text/latex": [
       "$\\displaystyle \\frac{1}{2}$"
      ],
      "text/plain": [
       "1/2"
      ]
     },
     "execution_count": 446,
     "metadata": {},
     "output_type": "execute_result"
    }
   ],
   "source": [
    "integrate(r**2 * f1s(r) * f2s(r), (r, 0, oo))**2"
   ]
  },
  {
   "cell_type": "code",
   "execution_count": null,
   "id": "1c0e9e44-3542-49fa-8420-e4ae5c9f5cb8",
   "metadata": {},
   "outputs": [],
   "source": []
  },
  {
   "cell_type": "code",
   "execution_count": 415,
   "id": "13476ad8-a2b7-4f76-97a0-0f322fff3616",
   "metadata": {},
   "outputs": [],
   "source": [
    "H0mat = np.array([[-15.072 ,   10.986 ,      0.   ,    -8.0000,      0.  ],\n",
    "         [10.986  ,   -11.304,    9.5138 ,    10.986 ,      0.  ],\n",
    "         [  0.    ,   9.5138 ,    -7.0720,    -13.856,      0.  ],\n",
    "         [-8.0000 ,   10.986 ,    -13.856,    1.8560 ,      0.  ],\n",
    "         [  0.    ,     0.   ,      0.   ,      0.   ,    1.8560]])"
   ]
  },
  {
   "cell_type": "code",
   "execution_count": 414,
   "id": "aafa1926-8a8d-4557-b46c-3d7515edad20",
   "metadata": {},
   "outputs": [],
   "source": [
    "Smat = np.array([[ 3.7714  , -2.666783,  0.      ,  1.8857  ,  0.      ],\n",
    "                        [-2.666783,  4.7142  , -2.3095, -5.333565,  0.      ],\n",
    "                        [ 0.      , -2.3095, 5.6570  ,  3.266128,  0.      ],\n",
    "                        [ 1.8857  , -5.333565,  3.266128, 15.0856  ,  0.      ],\n",
    "                        [ 0.      ,  0.      ,  0.      ,  0.      , 15.0856  ]]) / 3.7714"
   ]
  },
  {
   "cell_type": "code",
   "execution_count": 428,
   "id": "a0557091-2bc6-4a2f-9d47-c51512365bc2",
   "metadata": {},
   "outputs": [
    {
     "data": {
      "text/plain": [
       "(Matrix([\n",
       " [ 0.505908460046711,  0.750688174732099, -0.374141900611868,  0.201349776699888,   0],\n",
       " [-0.604765992847941,  0.033645765858641, -0.791915967060127, -0.077428402086402,   0],\n",
       " [ 0.423421657778159,  -0.62448241806792, -0.400708828632449,  0.519777109831175,   0],\n",
       " [ 0.446126466007348, -0.212971679528569, -0.268922617081147, -0.826616516934426,   0],\n",
       " [                 0,                  0,                  0,                  0, 1.0]]),\n",
       " Matrix([\n",
       " [-35.2593890872339,                 0,                0,                0,     0],\n",
       " [                0, -12.3099932310889,                0,                0,     0],\n",
       " [                0,                 0, 2.43100585623755,                0,     0],\n",
       " [                0,                 0,                0, 13.5463764620852,     0],\n",
       " [                0,                 0,                0,                0, 1.856]]))"
      ]
     },
     "execution_count": 428,
     "metadata": {},
     "output_type": "execute_result"
    }
   ],
   "source": [
    "Matrix(H0mat).diagonalize()"
   ]
  },
  {
   "cell_type": "code",
   "execution_count": 284,
   "id": "be22b197-0653-4db4-aade-cdfee06f0741",
   "metadata": {},
   "outputs": [
    {
     "data": {
      "text/latex": [
       "$\\displaystyle \\left[\\begin{matrix}1.0 & -0.707106909900833 & 0 & 0.5 & 0\\\\-0.707106909900833 & 1.24998674232381 & -0.612372063424723 & -1.41421355464814 & 0\\\\0 & -0.612372063424723 & 1.49997348464761 & 0.866025348676884 & 0\\\\0.5 & -1.41421355464814 & 0.866025348676884 & 4.0 & 0\\\\0 & 0 & 0 & 0 & 4.0\\end{matrix}\\right]$"
      ],
      "text/plain": [
       "Matrix([\n",
       "[               1.0, -0.707106909900833,                  0,               0.5,   0],\n",
       "[-0.707106909900833,   1.24998674232381, -0.612372063424723, -1.41421355464814,   0],\n",
       "[                 0, -0.612372063424723,   1.49997348464761, 0.866025348676884,   0],\n",
       "[               0.5,  -1.41421355464814,  0.866025348676884,               4.0,   0],\n",
       "[                 0,                  0,                  0,                 0, 4.0]])"
      ]
     },
     "execution_count": 284,
     "metadata": {},
     "output_type": "execute_result"
    }
   ],
   "source": [
    "MS"
   ]
  },
  {
   "cell_type": "code",
   "execution_count": 288,
   "id": "72b7a618-e363-4ecd-967b-027af011df9b",
   "metadata": {},
   "outputs": [],
   "source": [
    "from sympy import Matrix, sqrt\n",
    "MS = Matrix(Smat)\n",
    "U,m = MS.diagonalize()\n",
    "sm = (m**(1/2)).inv()"
   ]
  },
  {
   "cell_type": "code",
   "execution_count": 290,
   "id": "0e313257-d872-4fee-b8bb-c5e71a330b3d",
   "metadata": {},
   "outputs": [
    {
     "data": {
      "text/latex": [
       "$\\displaystyle \\left[\\begin{matrix}-12.2170616058317 & -1.12025585288185 & -0.877914593382954 & -1.33392473816239 & 0\\\\5.41478884189851 & -1.24159579407478 & -0.180463023491105 & 0.477988088214236 & 0\\\\-3.04543844070792 & -0.483801976640216 & -0.441158378196586 & -0.925765130202218 & 0\\\\-3.72477093117964 & 0.514067286904741 & -0.279244974861994 & -1.39190977295202 & 0\\\\0 & 0 & 0 & 0 & -1.27533333333333\\end{matrix}\\right]$"
      ],
      "text/plain": [
       "Matrix([\n",
       "[-12.2170616058317,  -1.12025585288185, -0.877914593382954,  -1.33392473816239,                 0],\n",
       "[ 5.41478884189851,  -1.24159579407478, -0.180463023491105,  0.477988088214236,                 0],\n",
       "[-3.04543844070792, -0.483801976640216, -0.441158378196586, -0.925765130202218,                 0],\n",
       "[-3.72477093117964,  0.514067286904741, -0.279244974861994,  -1.39190977295202,                 0],\n",
       "[                0,                  0,                  0,                  0, -1.27533333333333]])"
      ]
     },
     "execution_count": 290,
     "metadata": {},
     "output_type": "execute_result"
    }
   ],
   "source": [
    "sm @ U.inv() @ Matrix(h0) @ U @ sm"
   ]
  }
 ],
 "metadata": {
  "kernelspec": {
   "display_name": "Python 3 (ipykernel)",
   "language": "python",
   "name": "python3"
  },
  "language_info": {
   "codemirror_mode": {
    "name": "ipython",
    "version": 3
   },
   "file_extension": ".py",
   "mimetype": "text/x-python",
   "name": "python",
   "nbconvert_exporter": "python",
   "pygments_lexer": "ipython3",
   "version": "3.8.13"
  }
 },
 "nbformat": 4,
 "nbformat_minor": 5
}
