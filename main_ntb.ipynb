{
 "cells": [
  {
   "cell_type": "code",
   "execution_count": 1,
   "id": "b73f25a8-de7d-404a-bf8f-82e06d55b2fa",
   "metadata": {},
   "outputs": [],
   "source": [
    "from project1 import *\n",
    "import numpy as np\n",
    "\n",
    "np.set_printoptions(precision=6,linewidth=200,suppress=True)"
   ]
  },
  {
   "cell_type": "markdown",
   "id": "cf73b5c6-e3f0-42fc-b435-701036130ef8",
   "metadata": {},
   "source": [
    "# n12 = 2"
   ]
  },
  {
   "cell_type": "code",
   "execution_count": 2,
   "id": "3c24a7c7-d5c4-4fca-948d-7aadece8c31f",
   "metadata": {},
   "outputs": [
    {
     "name": "stdout",
     "output_type": "stream",
     "text": [
      "States: [[1, 1, 0]]\n",
      "\n",
      "Total number of states: 1\n",
      "\n",
      "Minimized E = -2.847656   for eta = 1.185185\n",
      "\n",
      "Results:  E = -2.847656 ,  eta = 1.18519 \n",
      "Reference optimized values from the book:   E_ref = -2.847656  ,  eta_ref = 1.18519  ,  dE = 0.0000002\n"
     ]
    }
   ],
   "source": [
    "n12 = 2\n",
    "\n",
    "cc = Configurations(n12, Z=2)\n",
    "E_opt, eta_opt = cc.optimize_eta()\n",
    "E = cc.get_energy()"
   ]
  },
  {
   "cell_type": "markdown",
   "id": "42938107-7f5c-4720-bf88-8f36f3689437",
   "metadata": {},
   "source": [
    "# n12 = 3"
   ]
  },
  {
   "cell_type": "code",
   "execution_count": 3,
   "id": "8f38378c-49db-49f7-85fb-a14f8ae32475",
   "metadata": {},
   "outputs": [
    {
     "name": "stdout",
     "output_type": "stream",
     "text": [
      "States: [[1, 1, 0], [1, 2, 0]]\n",
      "\n",
      "Total number of states: 2\n",
      "\n",
      "Minimized E = -2.847656   for eta = 1.185185\n",
      "\n",
      "Results:  E = -2.847656 ,  eta = 1.18519 \n",
      "Reference optimized values from the book:   E_ref = -2.847656  ,  eta_ref = 1.18519  ,  dE = 0.0000002\n"
     ]
    }
   ],
   "source": [
    "n12 = 3\n",
    "\n",
    "cc = Configurations(n12, Z=2)\n",
    "E_opt, eta_opt = cc.optimize_eta()\n",
    "E = cc.get_energy()"
   ]
  },
  {
   "cell_type": "markdown",
   "id": "ec7272a0-8987-47fa-8d40-679820eae88c",
   "metadata": {},
   "source": [
    "# n12 = 4"
   ]
  },
  {
   "cell_type": "code",
   "execution_count": 4,
   "id": "0ff6b470-58c8-4394-b520-adccfa982b67",
   "metadata": {},
   "outputs": [
    {
     "name": "stdout",
     "output_type": "stream",
     "text": [
      "States: [[1, 1, 0], [1, 2, 0], [1, 3, 0], [2, 2, 0], [2, 2, 1]]\n",
      "\n",
      "Total number of states: 5\n",
      "\n",
      "Minimized E = -2.883158   for eta = 1.184791\n",
      "\n",
      "Results:  E = -2.883158 ,  eta = 1.18479 \n",
      "Reference optimized values from the book:   E_ref = -2.895444  ,  eta_ref = 0.97100  ,  dE = -0.0122858\n"
     ]
    }
   ],
   "source": [
    "n12 = 4\n",
    "\n",
    "cc = Configurations(n12, Z=2)\n",
    "E_opt, eta_opt = cc.optimize_eta()\n",
    "E = cc.get_energy()"
   ]
  },
  {
   "cell_type": "markdown",
   "id": "2ef132d0-0acf-474c-b789-6961454a2420",
   "metadata": {},
   "source": [
    "# n12 = 5"
   ]
  },
  {
   "cell_type": "code",
   "execution_count": 5,
   "id": "30270396-fea4-4633-9d60-eac435b696f6",
   "metadata": {},
   "outputs": [
    {
     "name": "stdout",
     "output_type": "stream",
     "text": [
      "States: [[1, 1, 0], [1, 2, 0], [1, 3, 0], [1, 4, 0], [2, 2, 0], [2, 2, 1], [2, 3, 0], [2, 3, 1]]\n",
      "\n",
      "Total number of states: 8\n",
      "\n",
      "Minimized E = -2.888294   for eta = 1.206253\n",
      "\n",
      "Results:  E = -2.888294 ,  eta = 1.20625 \n",
      "Reference optimized values from the book:   E_ref = -2.897109  ,  eta_ref = 0.94000  ,  dE = -0.0088149\n"
     ]
    }
   ],
   "source": [
    "n = 5\n",
    "\n",
    "cc = Configurations(n, Z=2)\n",
    "E_opt, eta_opt = cc.optimize_eta()\n",
    "E = cc.get_energy()"
   ]
  },
  {
   "cell_type": "markdown",
   "id": "b0ba93ef-1046-4c37-9a41-62ac9f109dcc",
   "metadata": {},
   "source": [
    "# n12 = 6"
   ]
  },
  {
   "cell_type": "code",
   "execution_count": 6,
   "id": "91025be1-588f-4d2b-8cc2-9a7fe50339e2",
   "metadata": {},
   "outputs": [
    {
     "name": "stdout",
     "output_type": "stream",
     "text": [
      "States: [[1, 1, 0], [1, 2, 0], [1, 3, 0], [1, 4, 0], [1, 5, 0], [2, 2, 0], [2, 2, 1], [2, 3, 0], [2, 3, 1], [2, 4, 0], [2, 4, 1], [3, 3, 0], [3, 3, 1], [3, 3, 2]]\n",
      "\n",
      "Total number of states: 14\n",
      "\n",
      "Minimized E = -2.898147   for eta = 1.208820\n",
      "\n",
      "Results:  E = -2.898147 ,  eta = 1.20882 \n",
      "Reference optimized values from the book:   E_ref = -2.900714  ,  eta_ref = 0.79600  ,  dE = -0.0025672\n"
     ]
    }
   ],
   "source": [
    "n = 6\n",
    "\n",
    "cc = Configurations(n, Z=2)\n",
    "E_opt, eta_opt = cc.optimize_eta()\n",
    "E = cc.get_energy()"
   ]
  },
  {
   "cell_type": "markdown",
   "id": "1a481cda-847d-4d2d-b887-0811dd17868f",
   "metadata": {},
   "source": [
    "# n12 = 7"
   ]
  },
  {
   "cell_type": "code",
   "execution_count": 7,
   "id": "823f3331-85fe-4719-a35a-6a9e007233f4",
   "metadata": {},
   "outputs": [
    {
     "name": "stdout",
     "output_type": "stream",
     "text": [
      "States: [[1, 1, 0], [1, 2, 0], [1, 3, 0], [1, 4, 0], [1, 5, 0], [1, 6, 0], [2, 2, 0], [2, 2, 1], [2, 3, 0], [2, 3, 1], [2, 4, 0], [2, 4, 1], [2, 5, 0], [2, 5, 1], [3, 3, 0], [3, 3, 1], [3, 3, 2], [3, 4, 0], [3, 4, 1], [3, 4, 2]]\n",
      "\n",
      "Total number of states: 20\n",
      "\n",
      "Minimized E = -2.910784   for eta = 1.220010\n",
      "\n",
      "Results:  E = -2.910784 ,  eta = 1.22001 \n",
      "Reference optimized values from the book:   E_ref = -2.901452  ,  eta_ref = 0.76000  ,  dE = 0.0093320\n"
     ]
    }
   ],
   "source": [
    "n = 7\n",
    "\n",
    "cc = Configurations(n, Z=2)\n",
    "E_opt, eta_opt = cc.optimize_eta()\n",
    "E = cc.get_energy()"
   ]
  },
  {
   "cell_type": "code",
   "execution_count": null,
   "id": "157a5954-82a0-428e-b21f-a73eb247e2f1",
   "metadata": {},
   "outputs": [],
   "source": []
  }
 ],
 "metadata": {
  "kernelspec": {
   "display_name": "Python 3 (ipykernel)",
   "language": "python",
   "name": "python3"
  },
  "language_info": {
   "codemirror_mode": {
    "name": "ipython",
    "version": 3
   },
   "file_extension": ".py",
   "mimetype": "text/x-python",
   "name": "python",
   "nbconvert_exporter": "python",
   "pygments_lexer": "ipython3",
   "version": "3.8.13"
  }
 },
 "nbformat": 4,
 "nbformat_minor": 5
}
